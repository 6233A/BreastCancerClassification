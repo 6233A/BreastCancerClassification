{
 "cells": [
  {
   "cell_type": "code",
   "execution_count": 1,
   "id": "cb59ab5e",
   "metadata": {},
   "outputs": [],
   "source": [
    "import model_helper\n",
    "\n",
    "# Load test dataset\n",
    "testing = model_helper.load_testing(\"testing.csv\")\n",
    "testing_X = model_helper.get_testing_X_numpy(testing)\n",
    "testing_Y = model_helper.get_testing_Y_numpy(testing)"
   ]
  },
  {
   "cell_type": "code",
   "execution_count": 2,
   "id": "b5d11400",
   "metadata": {},
   "outputs": [
    {
     "name": "stdout",
     "output_type": "stream",
     "text": [
      "Accuracy score: 0.9473684210526315\n",
      "F1 Score: 0.9318181818181819\n",
      "Precision: 0.9534883720930233\n",
      "True positive rate/Recall: 0.9111111111111111\n",
      "True negative rate: 0.9710144927536232\n",
      "False positive rate: 0.028985507246376812\n",
      "False negative rate: 0.08888888888888889\n",
      "True Positives: 41\n",
      "True Negatives: 67\n",
      "False Positives: 2\n",
      "False Negatives: 4\n"
     ]
    }
   ],
   "source": [
    "# Evaluate logistic regressor\n",
    "logisticRegressor = model_helper.load_model(\"logisticRegressor.sav\")\n",
    "model_helper.evaluate_model(logisticRegressor, testing_X, testing_Y)"
   ]
  },
  {
   "cell_type": "code",
   "execution_count": 3,
   "id": "f1c2ec86",
   "metadata": {},
   "outputs": [
    {
     "name": "stdout",
     "output_type": "stream",
     "text": [
      "Accuracy score: 0.8771929824561403\n",
      "F1 Score: 0.8205128205128205\n",
      "Precision: 0.9696969696969697\n",
      "True positive rate/Recall: 0.7111111111111111\n",
      "True negative rate: 0.9855072463768116\n",
      "False positive rate: 0.014492753623188406\n",
      "False negative rate: 0.28888888888888886\n",
      "True Positives: 32\n",
      "True Negatives: 68\n",
      "False Positives: 1\n",
      "False Negatives: 13\n"
     ]
    }
   ],
   "source": [
    "# Evaluate Naive Bayes\n",
    "naiveBayes = model_helper.load_model(\"naiveBayes.sav\")\n",
    "model_helper.evaluate_model(naiveBayes, testing_X, testing_Y)"
   ]
  },
  {
   "cell_type": "code",
   "execution_count": 4,
   "id": "a8cf5e30",
   "metadata": {},
   "outputs": [
    {
     "name": "stdout",
     "output_type": "stream",
     "text": [
      "Accuracy score: 0.9736842105263158\n",
      "F1 Score: 0.967032967032967\n",
      "Precision: 0.9565217391304348\n",
      "True positive rate/Recall: 0.9777777777777777\n",
      "True negative rate: 0.9710144927536232\n",
      "False positive rate: 0.028985507246376812\n",
      "False negative rate: 0.022222222222222223\n",
      "True Positives: 44\n",
      "True Negatives: 67\n",
      "False Positives: 2\n",
      "False Negatives: 1\n"
     ]
    }
   ],
   "source": [
    "# Evaluate Random Forest\n",
    "randomForest = model_helper.load_model(\"randomForest.sav\")\n",
    "model_helper.evaluate_model(randomForest, testing_X, testing_Y)"
   ]
  },
  {
   "cell_type": "code",
   "execution_count": 5,
   "id": "daad2d29",
   "metadata": {},
   "outputs": [
    {
     "name": "stdout",
     "output_type": "stream",
     "text": [
      "Accuracy score: 0.9736842105263158\n",
      "F1 Score: 0.967032967032967\n",
      "Precision: 0.9565217391304348\n",
      "True positive rate/Recall: 0.9777777777777777\n",
      "True negative rate: 0.9710144927536232\n",
      "False positive rate: 0.028985507246376812\n",
      "False negative rate: 0.022222222222222223\n",
      "True Positives: 44\n",
      "True Negatives: 67\n",
      "False Positives: 2\n",
      "False Negatives: 1\n"
     ]
    }
   ],
   "source": [
    "# Evaluate Gradient Boosting Machine\n",
    "gradientBoostingMachine = model_helper.load_model(\"gradientBoostingMachine.sav\")\n",
    "model_helper.evaluate_model(gradientBoostingMachine, testing_X, testing_Y)"
   ]
  }
 ],
 "metadata": {
  "kernelspec": {
   "display_name": "Python 3 (ipykernel)",
   "language": "python",
   "name": "python3"
  },
  "language_info": {
   "codemirror_mode": {
    "name": "ipython",
    "version": 3
   },
   "file_extension": ".py",
   "mimetype": "text/x-python",
   "name": "python",
   "nbconvert_exporter": "python",
   "pygments_lexer": "ipython3",
   "version": "3.11.1"
  }
 },
 "nbformat": 4,
 "nbformat_minor": 5
}
