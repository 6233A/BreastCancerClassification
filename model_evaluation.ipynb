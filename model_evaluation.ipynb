{
 "cells": [
  {
   "cell_type": "code",
   "execution_count": 2,
   "id": "cb59ab5e",
   "metadata": {},
   "outputs": [
    {
     "ename": "ModuleNotFoundError",
     "evalue": "No module named 'model_helper'",
     "output_type": "error",
     "traceback": [
      "\u001b[1;31m---------------------------------------------------------------------------\u001b[0m",
      "\u001b[1;31mModuleNotFoundError\u001b[0m                       Traceback (most recent call last)",
      "Cell \u001b[1;32mIn[2], line 1\u001b[0m\n\u001b[1;32m----> 1\u001b[0m \u001b[38;5;28;01mimport\u001b[39;00m \u001b[38;5;21;01mmodel_helper\u001b[39;00m\n\u001b[0;32m      3\u001b[0m \u001b[38;5;66;03m# Load test dataset\u001b[39;00m\n\u001b[0;32m      4\u001b[0m testing \u001b[38;5;241m=\u001b[39m model_helper\u001b[38;5;241m.\u001b[39mget_testing(\u001b[38;5;124m\"\u001b[39m\u001b[38;5;124mtesting.csv\u001b[39m\u001b[38;5;124m\"\u001b[39m)\n",
      "\u001b[1;31mModuleNotFoundError\u001b[0m: No module named 'model_helper'"
     ]
    }
   ],
   "source": [
    "import model_helper\n",
    "\n",
    "# Load test dataset\n",
    "testing = model_helper.get_testing(\"testing.csv\")\n",
    "testing_X = model_helper.get_testing_X_numpy(testing)\n",
    "testing_Y = model_helper.get_testing_Y_numpy(testing)"
   ]
  },
  {
   "cell_type": "code",
   "execution_count": null,
   "id": "b5d11400",
   "metadata": {},
   "outputs": [],
   "source": [
    "# Evaluate logistic regressor\n",
    "logisticRegressor = model_helper.load_model(\"logisticRegressor.sav\")\n",
    "model_helper.evaluate_model(logisticRegressor, testing_X, testing_Y)"
   ]
  },
  {
   "cell_type": "code",
   "execution_count": null,
   "id": "f1c2ec86",
   "metadata": {},
   "outputs": [],
   "source": [
    "# Evaluate Naive Bayes\n",
    "naiveBayes = model_helper.load_model(\"naiveBayes.sav\")\n",
    "model_helper.evaluate_model(naiveBayes, testing_X, testing_Y)"
   ]
  },
  {
   "cell_type": "code",
   "execution_count": null,
   "id": "a8cf5e30",
   "metadata": {},
   "outputs": [],
   "source": [
    "# Evaluate Random Forest\n",
    "randomForest = model_helper.load_model(\"randomForest.sav\")\n",
    "model_helper.evaluate_model(randomForest, testing_X, testing_Y)"
   ]
  },
  {
   "cell_type": "code",
   "execution_count": null,
   "id": "daad2d29",
   "metadata": {},
   "outputs": [],
   "source": [
    "# Evaluate Gradient Boosting Machine\n",
    "gradientBoostingMachine = model_helper.load_model(\"gradientBoostingMachine.sav\")\n",
    "model_helper.evaluate_model(gradientBoostingMachine, testing_X, testing_Y)"
   ]
  }
 ],
 "metadata": {
  "kernelspec": {
   "display_name": "Python 3 (ipykernel)",
   "language": "python",
   "name": "python3"
  },
  "language_info": {
   "codemirror_mode": {
    "name": "ipython",
    "version": 3
   },
   "file_extension": ".py",
   "mimetype": "text/x-python",
   "name": "python",
   "nbconvert_exporter": "python",
   "pygments_lexer": "ipython3",
   "version": "3.11.1"
  }
 },
 "nbformat": 4,
 "nbformat_minor": 5
}
